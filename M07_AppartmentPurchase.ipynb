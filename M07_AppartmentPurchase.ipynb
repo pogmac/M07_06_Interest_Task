{
 "cells": [
  {
   "cell_type": "code",
   "execution_count": null,
   "id": "b0d1a2f7",
   "metadata": {},
   "outputs": [],
   "source": [
    "Zamierzasz kupić mieszkanie. Upatrzone M kosztuje w tym momencie 120 tys. zł, jednak przewidujesz, \n",
    "że przez następne 5 lat ceny mieszkań będą rosły w tempie 5% rocznie. W tym momencie nie dysponujesz wystarczającymi środkami,\n",
    "dlatego znajdujesz ofertę banku, który proponuje lokatę, do której dopłacasz pewna stałą kwotę na koniec każdego miesiąca. \n",
    "Bank oferuje nominalną stopę procentową w wysokości 12% w skali roku, przy kapitalizacji miesięcznej.\n",
    "\n",
    "Ile będzie wynosiła orientacyjna cena mieszkania za 5 lat?\n",
    "Ile musisz wpłacać do banku każdego miesiąca, aby przy przedstawionej ofercie uzbierać na mieszkanie w ciągu 5 lat?\n",
    "Stwórz wykres przedstawiający, jak w interwałach miesięcznych zmieniać się będzie cena mieszkania \n",
    "(liniowy wzrost w całym okresie) oraz wartość twojej lokaty.\n",
    "\n",
    "Do wykonania powyższego zadania wykorzystaj biblioteki NumPy, NumPy-financial oraz Matplotlib. \n",
    "Odpowiedzi na pytania umieść w Notebooku (jeśli korzystasz) lub w komentarzach w kodzie.\n",
    "\n",
    "Rozwiązanie umieść w twoim repozytorium na GitHub i prześlij Mentorowi.\n"
   ]
  },
  {
   "cell_type": "code",
   "execution_count": 6,
   "id": "eb3ced65",
   "metadata": {},
   "outputs": [
    {
     "data": {
      "text/plain": [
       "153153.78750000003"
      ]
     },
     "execution_count": 6,
     "metadata": {},
     "output_type": "execute_result"
    }
   ],
   "source": [
    "# Annual capitalisation\n",
    "price5ya =120000*(1+0.05)**5\n",
    "price5ya"
   ]
  },
  {
   "cell_type": "code",
   "execution_count": 97,
   "id": "60903c5d",
   "metadata": {},
   "outputs": [
    {
     "name": "stdout",
     "output_type": "stream",
     "text": [
      "Property value after 5 years. Couting monthl capitalisation 154003.04142042142\n"
     ]
    }
   ],
   "source": [
    "# Monthly capitalisation\n",
    "price5ym = 120000*(1+0.05/12)**(12*5)\n",
    "\n",
    "print(\"Property value after 5 years. Couting monthly capitalisation\", price5ym)"
   ]
  },
  {
   "cell_type": "code",
   "execution_count": 80,
   "id": "e3fa5337",
   "metadata": {},
   "outputs": [
    {
     "name": "stdout",
     "output_type": "stream",
     "text": [
      "120000, 120566.72, 121133.43, 121700.15, 122266.87, 122833.59, 123400.3, 123967.02, 124533.74, 125100.46, 125667.17, 126233.89, 126800.61, 127367.33, 127934.04, 128500.76, 129067.48, 129634.2, 130200.91, 130767.63, 131334.35, 131901.06, 132467.78, 133034.5, 133601.22, 134167.93, 134734.65, 135301.37, 135868.09, 136434.8, 137001.52, 137568.24, 138134.96, 138701.67, 139268.39, 139835.11, 140401.82, 140968.54, 141535.26, 142101.98, 142668.69, 143235.41, 143802.13, 144368.85, 144935.56, 145502.28, 146069.0, 146635.72, 147202.43, 147769.15, 148335.87, 148902.59, 149469.3, 150036.02, 150602.74, 151169.45, 151736.17, 152302.89, 152869.61, 153436.32, 154003.04, "
     ]
    }
   ],
   "source": [
    "linValDiff = (price5ym-120000)/60\n",
    "#linValDiff\n",
    "appCurrValue = 120000\n",
    "appValue = [appCurrValue] \n",
    "for i in range(60):\n",
    "    appCurrValue += linValDiff\n",
    "    appValue.append(appCurrValue)\n",
    "\n",
    "for _ in appValue:\n",
    "    print(round(_,2),end = \", \")"
   ]
  },
  {
   "cell_type": "code",
   "execution_count": 93,
   "id": "95256b19",
   "metadata": {},
   "outputs": [
    {
     "name": "stdout",
     "output_type": "stream",
     "text": [
      "monthly instalment = 2255.15\n",
      "Cumulative value of the savings =\n",
      "[0, 2264.5462555255176, 4538.528120449058, 6821.984909809779, 9114.956102459504, 11417.48134174527, 13729.600436194725, 16051.353360204386, 18382.780254730755, 20723.921427984318, 23074.817356126438, 25435.50868396915, 27806.03622567787, 30186.440965477046, 32576.76405835872, 34977.04683079406, 37387.33078144788, 39807.6575818961, 42238.06907734618, 44678.60728736064, 47129.31440658349, 49590.23280546977, 52061.405031018076, 54542.87380750616, 57034.68203722962, 59536.87280124359, 62049.48936010762, 64572.57515463358, 67106.17380663674, 69650.32911968991, 72205.08507988081, 74770.4858565725, 77346.57580316707, 79933.39945787245, 82531.00154447244, 85139.42697309994, 87758.72084101338, 90388.92843337645, 93030.09522404104, 95682.2668763334, 98345.48924384364, 101019.8083712185, 103705.27049495744, 106401.92204421195, 109109.80964158836, 111828.98010395383, 114559.48044324582, 117301.35786728487, 120054.65978059074, 122819.43378520205, 125595.72768149925, 128383.58946903102, 131183.0673473442, 133994.20971681696, 136817.06517949587, 139651.68253993595, 142498.1108060445, 145356.39918992855, 148226.59710874542, 151108.75418555737, 154002.92025018937]\n"
     ]
    }
   ],
   "source": [
    "x = 2000\n",
    "rate = 0.05\n",
    "years = 5\n",
    "months = 12* years\n",
    "rateM = rate/12\n",
    "fvM = 1+rateM\n",
    "\n",
    "\n",
    "# sumT = Test Sum (Future value of the mothly payments x)\n",
    "for j in range(10):\n",
    "    \n",
    "    sumT = 0\n",
    "    for i in range(60):\n",
    "        fvX = x*fvM**(months-i)\n",
    "        sumT += fvX\n",
    "\n",
    "#    print(\"iteration\",j, \"| price5ym =\", round(price5ym,2),\"sumT =\", round(sumT,2))\n",
    "    diff = price5ym - sumT\n",
    "    diffMod = diff/months\n",
    "    x += diffMod\n",
    "#    print(\"diff =\",round(diff,3), \"diffMod =\", round(diffMod,4))\n",
    "#    print(\"new x =\", round(x,3))\n",
    "#    print()\n",
    "    if abs(diff) < 1:\n",
    "        print(\"monthly instalment =\", round(x,2))\n",
    "        break\n",
    "\n",
    "## xarray array with future value of the saved money\n",
    "\n",
    "valuecum = 0\n",
    "valuecumArr =[valuecum]\n",
    "xarray =[]\n",
    "for i in range(60):\n",
    "    valuecum += x\n",
    "#    print(valuecum, end = \", \")\n",
    "    valuecum = valuecum*(1+rateM)\n",
    "#    print(valuecum)\n",
    "    valuecumArr.append(valuecum)\n",
    "    \n",
    "print(\"Cumulative value of the savings =\")\n",
    "print(valuecumArr)"
   ]
  },
  {
   "cell_type": "code",
   "execution_count": 173,
   "id": "5b396928",
   "metadata": {},
   "outputs": [
    {
     "data": {
      "text/plain": [
       "array([ 0,  1,  2,  3,  4,  5,  6,  7,  8,  9, 10, 11, 12, 13, 14, 15, 16,\n",
       "       17, 18, 19, 20, 21, 22, 23, 24, 25, 26, 27, 28, 29, 30, 31, 32, 33,\n",
       "       34, 35, 36, 37, 38, 39, 40, 41, 42, 43, 44, 45, 46, 47, 48, 49, 50,\n",
       "       51, 52, 53, 54, 55, 56, 57, 58, 59])"
      ]
     },
     "execution_count": 173,
     "metadata": {},
     "output_type": "execute_result"
    }
   ],
   "source": [
    "import numpy as np\n",
    "import numpy_financial as npf\n",
    "my_arr = np.arange(60)\n",
    "my_arr"
   ]
  },
  {
   "cell_type": "code",
   "execution_count": 72,
   "id": "1daaefb9",
   "metadata": {},
   "outputs": [],
   "source": [
    "import matplotlib.pyplot as plt"
   ]
  },
  {
   "cell_type": "code",
   "execution_count": 98,
   "id": "3042dbeb",
   "metadata": {},
   "outputs": [
    {
     "data": {
      "text/plain": [
       "Text(0, 0.5, 'Value')"
      ]
     },
     "execution_count": 98,
     "metadata": {},
     "output_type": "execute_result"
    },
    {
     "data": {
      "image/png": "[encoded data removed]",
      "text/plain": [
       "<Figure size 640x480 with 1 Axes>"
      ]
     },
     "metadata": {},
     "output_type": "display_data"
    }
   ],
   "source": [
    "#plt.plot(interest_equal.cumsum(),label='raty równe')\n",
    "#plt.plot(interest_decreasing.cumsum(),label='raty malejące')\n",
    "\n",
    "plt.plot(appValue,label='Appartment Value')\n",
    "plt.plot(valuecumArr,label='Investment Value')\n",
    "plt.legend()\n",
    "plt.xlabel('Months')\n",
    "plt.ylabel('Value')"
   ]
  },
  {
   "cell_type": "code",
   "execution_count": 154,
   "id": "4664cb7d",
   "metadata": {},
   "outputs": [
    {
     "name": "stdout",
     "output_type": "stream",
     "text": [
      "0.004166666666666667 60\n"
     ]
    }
   ],
   "source": [
    "### Second method using numpy_financial and numpy\n",
    "\n",
    "freq = 12\n",
    "rate = 0.05\n",
    "years = 5\n",
    "pv =120000\n",
    "fv = 154003.04\n",
    "pmt =2000 # 2255.15 #2264.54\n",
    "\n",
    "rateFreq = rate / freq # conversion of the interest rate to the monthly rate\n",
    "nper = years * freq\n",
    "\n",
    "print(rateFreq, nper)\n"
   ]
  },
  {
   "cell_type": "code",
   "execution_count": 133,
   "id": "0be849ff",
   "metadata": {},
   "outputs": [],
   "source": [
    "periods = np.arange(1,nper+1, dtype = float)"
   ]
  },
  {
   "cell_type": "code",
   "execution_count": 134,
   "id": "59838691",
   "metadata": {},
   "outputs": [
    {
     "data": {
      "text/plain": [
       "array([ 1.,  2.,  3.,  4.,  5.,  6.,  7.,  8.,  9., 10., 11., 12., 13.,\n",
       "       14., 15., 16., 17., 18., 19., 20., 21., 22., 23., 24., 25., 26.,\n",
       "       27., 28., 29., 30., 31., 32., 33., 34., 35., 36., 37., 38., 39.,\n",
       "       40., 41., 42., 43., 44., 45., 46., 47., 48., 49., 50., 51., 52.,\n",
       "       53., 54., 55., 56., 57., 58., 59., 60.])"
      ]
     },
     "execution_count": 134,
     "metadata": {},
     "output_type": "execute_result"
    }
   ],
   "source": [
    "periods"
   ]
  },
  {
   "cell_type": "code",
   "execution_count": 110,
   "id": "aff667e4",
   "metadata": {},
   "outputs": [],
   "source": [
    "interest_equal = - np.around(npf.ipmt(rateFreq,periods,nper,pv,2))"
   ]
  },
  {
   "cell_type": "code",
   "execution_count": 111,
   "id": "7c896a89",
   "metadata": {},
   "outputs": [
    {
     "data": {
      "text/plain": [
       "array([500., 493., 485., 478., 470., 463., 455., 448., 440., 433., 425.,\n",
       "       417., 410., 402., 394., 386., 379., 371., 363., 355., 347., 339.,\n",
       "       331., 323., 315., 307., 299., 290., 282., 274., 266., 257., 249.,\n",
       "       240., 232., 224., 215., 207., 198., 189., 181., 172., 163., 155.,\n",
       "       146., 137., 128., 119., 110., 101.,  92.,  83.,  74.,  65.,  56.,\n",
       "        47.,  37.,  28.,  19.,   9.])"
      ]
     },
     "execution_count": 111,
     "metadata": {},
     "output_type": "execute_result"
    }
   ],
   "source": [
    "interest_equal"
   ]
  },
  {
   "cell_type": "code",
   "execution_count": 155,
   "id": "6fd698ad",
   "metadata": {},
   "outputs": [
    {
     "data": {
      "text/plain": [
       "-2255.1515515963188"
      ]
     },
     "execution_count": 155,
     "metadata": {},
     "output_type": "execute_result"
    }
   ],
   "source": [
    "npf.pmt(rateFreq,nper,0,fv,1)"
   ]
  },
  {
   "cell_type": "code",
   "execution_count": 156,
   "id": "b9814105",
   "metadata": {},
   "outputs": [
    {
     "data": {
      "text/plain": [
       "136578.8830386927"
      ]
     },
     "execution_count": 156,
     "metadata": {},
     "output_type": "execute_result"
    }
   ],
   "source": [
    "npf.fv(rateFreq, nper, -pmt,0,1)"
   ]
  },
  {
   "cell_type": "code",
   "execution_count": 188,
   "id": "8518bfbc",
   "metadata": {},
   "outputs": [
    {
     "data": {
      "text/plain": [
       "array([2264.54801639, 2273.98363313, 2283.45856493, 2292.97297562,\n",
       "       2302.52702969, 2312.12089231, 2321.75472936, 2331.4287074 ,\n",
       "       2341.14299368, 2350.89775616, 2360.69316347, 2370.52938499,\n",
       "       2380.40659076, 2390.32495155, 2400.28463885, 2410.28582485,\n",
       "       2420.32868245, 2430.41338529, 2440.54010773, 2450.70902485,\n",
       "       2460.92031245, 2471.17414709, 2481.47070603, 2491.81016731,\n",
       "       2502.19270967, 2512.61851263, 2523.08775643, 2533.60062208,\n",
       "       2544.15729134, 2554.75794672, 2565.4027715 , 2576.09194971,\n",
       "       2586.82566617, 2597.60410645, 2608.42745689, 2619.29590463,\n",
       "       2630.20963756, 2641.16884439, 2652.17371457, 2663.22443838,\n",
       "       2674.32120688, 2685.4642119 , 2696.65364612, 2707.88970298,\n",
       "       2719.17257674, 2730.50246248, 2741.87955607, 2753.30405422,\n",
       "       2764.77615445, 2776.29605509, 2787.86395532, 2799.48005514,\n",
       "       2811.14455536, 2822.85765768, 2834.61956459, 2846.43047944,\n",
       "       2858.29060644, 2870.20015063, 2882.15931792, 2894.16831508])"
      ]
     },
     "execution_count": 188,
     "metadata": {},
     "output_type": "execute_result"
    }
   ],
   "source": [
    "pmt = npf.pmt(rateFreq,nper,0,fv,1)\n",
    "for i in range(len(periods)):\n",
    "    periods[i] = -pmt*(1+rateFreq)**(i+1)\n",
    "periods    "
   ]
  },
  {
   "cell_type": "code",
   "execution_count": 167,
   "id": "56c434df",
   "metadata": {},
   "outputs": [
    {
     "data": {
      "text/plain": [
       "-2894.1683150817958"
      ]
     },
     "execution_count": 167,
     "metadata": {},
     "output_type": "execute_result"
    }
   ],
   "source": [
    "pmt*(1+rateFreq)**60"
   ]
  },
  {
   "cell_type": "code",
   "execution_count": 177,
   "id": "34b9b06e",
   "metadata": {},
   "outputs": [
    {
     "data": {
      "text/plain": [
       "array([     0.        ,   2264.54801639,   4538.53164952,   6821.99021446,\n",
       "         9114.96319008,  11417.49021977,  13729.61111208,  16051.36584144,\n",
       "        18382.79454884,  20723.93754252,  23074.83529868,  25435.52846215,\n",
       "        27806.05784714,  30186.46443789,  32576.78938945,  34977.0740283 ,\n",
       "        37387.35985314,  39807.68853559,  42238.10192088,  44678.64202862,\n",
       "        47129.35105346,  49590.27136591,  52061.445513  ,  54542.91621903,\n",
       "        57034.72638634,  59536.91909601,  62049.53760864,  64572.62536507,\n",
       "        67106.22598715,  69650.38327849,  72205.14122521,  74770.54399671,\n",
       "        77346.63594643,  79933.4616126 ,  82531.06571905,  85139.49317594,\n",
       "        87758.78908057,  90388.99871813,  93030.16756252,  95682.34127709,\n",
       "        98345.56571547, 101019.88692235, 103705.35113425, 106402.00478037,\n",
       "       109109.89448335, 111829.06706009, 114559.56952257, 117301.44907864,\n",
       "       120054.75313286, 122819.52928731, 125595.8253424 , 128383.68929773,\n",
       "       131183.16935286, 133994.31390823, 136817.17156591, 139651.79113049,\n",
       "       142498.22160993, 145356.51221637, 148226.71236699, 151108.87168492,\n",
       "       154003.04      ])"
      ]
     },
     "execution_count": 177,
     "metadata": {},
     "output_type": "execute_result"
    }
   ],
   "source": [
    "investment = np.cumsum(periods)\n",
    "investment = np.append(investment,([0]))\n",
    "investment.sort()\n",
    "investment"
   ]
  },
  {
   "cell_type": "code",
   "execution_count": 190,
   "id": "4435b8cc",
   "metadata": {},
   "outputs": [
    {
     "data": {
      "text/plain": [
       "array([120000.        , 120500.        , 121002.08333333, 121506.25868056,\n",
       "       122012.53475839, 122520.92031988, 123031.42415455, 123544.05508853,\n",
       "       124058.82198473, 124575.733743  , 125094.79930026, 125616.02763068,\n",
       "       126139.42774581, 126665.00869475, 127192.77956431, 127722.74947916,\n",
       "       128254.92760199, 128789.32313367, 129325.94531339, 129864.80341886,\n",
       "       130405.90676644, 130949.2647113 , 131494.8866476 , 132042.78200863,\n",
       "       132592.960267  , 133145.43093478, 133700.20356367, 134257.28774519,\n",
       "       134816.69311079, 135378.42933209, 135942.50612097, 136508.93322981,\n",
       "       137077.7204516 , 137648.87762015, 138222.41461023, 138798.34133778,\n",
       "       139376.66776002, 139957.40387568, 140540.55972516, 141126.14539069,\n",
       "       141714.17099648, 142304.64670897, 142897.58273692, 143492.98933166,\n",
       "       144090.87678721, 144691.25544049, 145294.13567149, 145899.52790345,\n",
       "       146507.44260305, 147117.89028056, 147730.88149007, 148346.42682961,\n",
       "       148964.5369414 , 149585.22251199, 150208.49427245, 150834.36299859,\n",
       "       151462.83951108, 152093.93467571, 152727.65940353, 153364.02465104,\n",
       "       154003.04142042])"
      ]
     },
     "execution_count": 190,
     "metadata": {},
     "output_type": "execute_result"
    }
   ],
   "source": [
    "imval = np.ones(60)\n",
    "for i in range(len(imval)):\n",
    "    imval[i] = pv*(1+rateFreq)**(i+1)\n",
    "imval = np.append(imval,([120000]))\n",
    "imval.sort()    \n",
    "imval"
   ]
  },
  {
   "cell_type": "code",
   "execution_count": 192,
   "id": "bb074e29",
   "metadata": {},
   "outputs": [
    {
     "data": {
      "text/plain": [
       "Text(0, 0.5, 'Value')"
      ]
     },
     "execution_count": 192,
     "metadata": {},
     "output_type": "execute_result"
    },
    {
     "data": {
      "image/png": "[encoded data removed]",
      "text/plain": [
       "<Figure size 640x480 with 1 Axes>"
      ]
     },
     "metadata": {},
     "output_type": "display_data"
    }
   ],
   "source": [
    "plt.plot(imval,label='Appartment Value')\n",
    "plt.plot(investment,label='Investment Value')\n",
    "plt.legend()\n",
    "plt.xlabel('Months')\n",
    "plt.ylabel('Value')"
   ]
  },
  {
   "cell_type": "code",
   "execution_count": null,
   "id": "5dcb2f9a",
   "metadata": {},
   "outputs": [],
   "source": []
  }
 ],
 "metadata": {
  "kernelspec": {
   "display_name": "Python 3 (ipykernel)",
   "language": "python",
   "name": "python3"
  },
  "language_info": {
   "codemirror_mode": {
    "name": "ipython",
    "version": 3
   },
   "file_extension": ".py",
   "mimetype": "text/x-python",
   "name": "python",
   "nbconvert_exporter": "python",
   "pygments_lexer": "ipython3",
   "version": "3.11.1"
  }
 },
 "nbformat": 4,
 "nbformat_minor": 5
}
