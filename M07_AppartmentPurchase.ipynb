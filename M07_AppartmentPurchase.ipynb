{
 "cells": [
  {
   "cell_type": "code",
   "execution_count": null,
   "id": "b0d1a2f7",
   "metadata": {},
   "outputs": [],
   "source": [
    "Zamierzasz kupić mieszkanie. Upatrzone M kosztuje w tym momencie 120 tys. zł, jednak przewidujesz, \n",
    "że przez następne 5 lat ceny mieszkań będą rosły w tempie 5% rocznie. W tym momencie nie dysponujesz wystarczającymi środkami,\n",
    "dlatego znajdujesz ofertę banku, który proponuje lokatę, do której dopłacasz pewna stałą kwotę na koniec każdego miesiąca. \n",
    "Bank oferuje nominalną stopę procentową w wysokości 12% w skali roku, przy kapitalizacji miesięcznej.\n",
    "\n",
    "Ile będzie wynosiła orientacyjna cena mieszkania za 5 lat?\n",
    "Ile musisz wpłacać do banku każdego miesiąca, aby przy przedstawionej ofercie uzbierać na mieszkanie w ciągu 5 lat?\n",
    "Stwórz wykres przedstawiający, jak w interwałach miesięcznych zmieniać się będzie cena mieszkania \n",
    "(liniowy wzrost w całym okresie) oraz wartość twojej lokaty.\n",
    "\n",
    "Do wykonania powyższego zadania wykorzystaj biblioteki NumPy, NumPy-financial oraz Matplotlib. \n",
    "Odpowiedzi na pytania umieść w Notebooku (jeśli korzystasz) lub w komentarzach w kodzie.\n",
    "\n",
    "Rozwiązanie umieść w twoim repozytorium na GitHub i prześlij Mentorowi.\n"
   ]
  },
  {
   "cell_type": "code",
   "execution_count": 6,
   "id": "eb3ced65",
   "metadata": {},
   "outputs": [
    {
     "data": {
      "text/plain": [
       "153153.78750000003"
      ]
     },
     "execution_count": 6,
     "metadata": {},
     "output_type": "execute_result"
    }
   ],
   "source": [
    "# Annual capitalisation\n",
    "price5ya =120000*(1+0.05)**5\n",
    "price5ya"
   ]
  },
  {
   "cell_type": "code",
   "execution_count": 97,
   "id": "60903c5d",
   "metadata": {},
   "outputs": [
    {
     "name": "stdout",
     "output_type": "stream",
     "text": [
      "Property value after 5 years. Couting monthl capitalisation 154003.04142042142\n"
     ]
    }
   ],
   "source": [
    "# Monthly capitalisation\n",
    "price5ym = 120000*(1+0.05/12)**(12*5)\n",
    "\n",
    "print(\"Property value after 5 years. Couting monthl capitalisation\", price5ym)"
   ]
  },
  {
   "cell_type": "code",
   "execution_count": 80,
   "id": "e3fa5337",
   "metadata": {},
   "outputs": [
    {
     "name": "stdout",
     "output_type": "stream",
     "text": [
      "120000, 120566.72, 121133.43, 121700.15, 122266.87, 122833.59, 123400.3, 123967.02, 124533.74, 125100.46, 125667.17, 126233.89, 126800.61, 127367.33, 127934.04, 128500.76, 129067.48, 129634.2, 130200.91, 130767.63, 131334.35, 131901.06, 132467.78, 133034.5, 133601.22, 134167.93, 134734.65, 135301.37, 135868.09, 136434.8, 137001.52, 137568.24, 138134.96, 138701.67, 139268.39, 139835.11, 140401.82, 140968.54, 141535.26, 142101.98, 142668.69, 143235.41, 143802.13, 144368.85, 144935.56, 145502.28, 146069.0, 146635.72, 147202.43, 147769.15, 148335.87, 148902.59, 149469.3, 150036.02, 150602.74, 151169.45, 151736.17, 152302.89, 152869.61, 153436.32, 154003.04, "
     ]
    }
   ],
   "source": [
    "linValDiff = (price5ym-120000)/60\n",
    "#linValDiff\n",
    "appCurrValue = 120000\n",
    "appValue = [appCurrValue] \n",
    "for i in range(60):\n",
    "    appCurrValue += linValDiff\n",
    "    appValue.append(appCurrValue)\n",
    "\n",
    "for _ in appValue:\n",
    "    print(round(_,2),end = \", \")"
   ]
  },
  {
   "cell_type": "code",
   "execution_count": 93,
   "id": "95256b19",
   "metadata": {},
   "outputs": [
    {
     "name": "stdout",
     "output_type": "stream",
     "text": [
      "monthly instalment = 2255.15\n",
      "Cumulative value of the savings =\n",
      "[0, 2264.5462555255176, 4538.528120449058, 6821.984909809779, 9114.956102459504, 11417.48134174527, 13729.600436194725, 16051.353360204386, 18382.780254730755, 20723.921427984318, 23074.817356126438, 25435.50868396915, 27806.03622567787, 30186.440965477046, 32576.76405835872, 34977.04683079406, 37387.33078144788, 39807.6575818961, 42238.06907734618, 44678.60728736064, 47129.31440658349, 49590.23280546977, 52061.405031018076, 54542.87380750616, 57034.68203722962, 59536.87280124359, 62049.48936010762, 64572.57515463358, 67106.17380663674, 69650.32911968991, 72205.08507988081, 74770.4858565725, 77346.57580316707, 79933.39945787245, 82531.00154447244, 85139.42697309994, 87758.72084101338, 90388.92843337645, 93030.09522404104, 95682.2668763334, 98345.48924384364, 101019.8083712185, 103705.27049495744, 106401.92204421195, 109109.80964158836, 111828.98010395383, 114559.48044324582, 117301.35786728487, 120054.65978059074, 122819.43378520205, 125595.72768149925, 128383.58946903102, 131183.0673473442, 133994.20971681696, 136817.06517949587, 139651.68253993595, 142498.1108060445, 145356.39918992855, 148226.59710874542, 151108.75418555737, 154002.92025018937]\n"
     ]
    }
   ],
   "source": [
    "x = 2000\n",
    "rate = 0.05\n",
    "years = 5\n",
    "months = 12* years\n",
    "rateM = rate/12\n",
    "fvM = 1+rateM\n",
    "\n",
    "\n",
    "# sumT = Test Sum (Future value of the mothly payments x)\n",
    "for j in range(10):\n",
    "    \n",
    "    sumT = 0\n",
    "    for i in range(60):\n",
    "        fvX = x*fvM**(months-i)\n",
    "        sumT += fvX\n",
    "\n",
    "#    print(\"iteration\",j, \"| price5ym =\", round(price5ym,2),\"sumT =\", round(sumT,2))\n",
    "    diff = price5ym - sumT\n",
    "    diffMod = diff/months\n",
    "    x += diffMod\n",
    "#    print(\"diff =\",round(diff,3), \"diffMod =\", round(diffMod,4))\n",
    "#    print(\"new x =\", round(x,3))\n",
    "#    print()\n",
    "    if abs(diff) < 1:\n",
    "        print(\"monthly instalment =\", round(x,2))\n",
    "        break\n",
    "\n",
    "## xarray array with future value of the saved money\n",
    "\n",
    "valuecum = 0\n",
    "valuecumArr =[valuecum]\n",
    "xarray =[]\n",
    "for i in range(60):\n",
    "    valuecum += x\n",
    "#    print(valuecum, end = \", \")\n",
    "    valuecum = valuecum*(1+rateM)\n",
    "#    print(valuecum)\n",
    "    valuecumArr.append(valuecum)\n",
    "    \n",
    "print(\"Cumulative value of the savings =\")\n",
    "print(valuecumArr)"
   ]
  },
  {
   "cell_type": "code",
   "execution_count": 95,
   "id": "5b396928",
   "metadata": {},
   "outputs": [
    {
     "data": {
      "text/plain": [
       "array([ 0,  1,  2,  3,  4,  5,  6,  7,  8,  9, 10, 11, 12, 13, 14, 15, 16,\n",
       "       17, 18, 19, 20, 21, 22, 23, 24, 25, 26, 27, 28, 29, 30, 31, 32, 33,\n",
       "       34, 35, 36, 37, 38, 39, 40, 41, 42, 43, 44, 45, 46, 47, 48, 49, 50,\n",
       "       51, 52, 53, 54, 55, 56, 57, 58, 59])"
      ]
     },
     "execution_count": 95,
     "metadata": {},
     "output_type": "execute_result"
    }
   ],
   "source": [
    "import numpy as np\n",
    "import numpy_financial as npf\n",
    "my_arr = np.arange(60)\n",
    "my_arr"
   ]
  },
  {
   "cell_type": "code",
   "execution_count": 72,
   "id": "1daaefb9",
   "metadata": {},
   "outputs": [],
   "source": [
    "import matplotlib.pyplot as plt"
   ]
  },
  {
   "cell_type": "code",
   "execution_count": 98,
   "id": "3042dbeb",
   "metadata": {},
   "outputs": [
    {
     "data": {
      "text/plain": [
       "Text(0, 0.5, 'Value')"
      ]
     },
     "execution_count": 98,
     "metadata": {},
     "output_type": "execute_result"
    },
    {
     "data": {
      "image/png": "[encoded data removed]",
      "text/plain": [
       "<Figure size 640x480 with 1 Axes>"
      ]
     },
     "metadata": {},
     "output_type": "display_data"
    }
   ],
   "source": [
    "#plt.plot(interest_equal.cumsum(),label='raty równe')\n",
    "#plt.plot(interest_decreasing.cumsum(),label='raty malejące')\n",
    "\n",
    "plt.plot(appValue,label='Appartment Value')\n",
    "plt.plot(valuecumArr,label='Investment Value')\n",
    "plt.legend()\n",
    "plt.xlabel('Months')\n",
    "plt.ylabel('Value')"
   ]
  },
  {
   "cell_type": "code",
   "execution_count": null,
   "id": "52998c31",
   "metadata": {},
   "outputs": [],
   "source": []
  }
 ],
 "metadata": {
  "kernelspec": {
   "display_name": "Python 3 (ipykernel)",
   "language": "python",
   "name": "python3"
  },
  "language_info": {
   "codemirror_mode": {
    "name": "ipython",
    "version": 3
   },
   "file_extension": ".py",
   "mimetype": "text/x-python",
   "name": "python",
   "nbconvert_exporter": "python",
   "pygments_lexer": "ipython3",
   "version": "3.11.1"
  }
 },
 "nbformat": 4,
 "nbformat_minor": 5
}
