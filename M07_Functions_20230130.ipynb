{
 "cells": [
  {
   "cell_type": "code",
   "execution_count": null,
   "id": "4ee0d8f3",
   "metadata": {},
   "outputs": [],
   "source": [
    "# We create functions using \"def\" followed by the name of the function and \n",
    "# then in round brackets the arguments of the function followed by the colon \":\"\n",
    "# Bn the body of the function we write what it does with its aruments and return a result of the function"
   ]
  },
  {
   "cell_type": "code",
   "execution_count": 12,
   "id": "619c05d4",
   "metadata": {},
   "outputs": [
    {
     "data": {
      "text/plain": [
       "8"
      ]
     },
     "execution_count": 12,
     "metadata": {},
     "output_type": "execute_result"
    }
   ],
   "source": [
    "a = 3\n",
    "b = 5\n",
    "def sumab(a,b):\n",
    "    result = a +b\n",
    "    return result\n"
   ]
  },
  {
   "cell_type": "code",
   "execution_count": 19,
   "id": "b4addc60",
   "metadata": {},
   "outputs": [
    {
     "data": {
      "text/plain": [
       "8"
      ]
     },
     "execution_count": 19,
     "metadata": {},
     "output_type": "execute_result"
    }
   ],
   "source": [
    "# To start a function we write the name of the function and within the brackets the arguments:\n",
    "sumab(a,b)"
   ]
  },
  {
   "cell_type": "code",
   "execution_count": null,
   "id": "8b473d9b",
   "metadata": {},
   "outputs": [],
   "source": []
  }
 ],
 "metadata": {
  "kernelspec": {
   "display_name": "Python 3 (ipykernel)",
   "language": "python",
   "name": "python3"
  },
  "language_info": {
   "codemirror_mode": {
    "name": "ipython",
    "version": 3
   },
   "file_extension": ".py",
   "mimetype": "text/x-python",
   "name": "python",
   "nbconvert_exporter": "python",
   "pygments_lexer": "ipython3",
   "version": "3.11.1"
  }
 },
 "nbformat": 4,
 "nbformat_minor": 5
}
